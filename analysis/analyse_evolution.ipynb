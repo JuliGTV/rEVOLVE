{
 "cells": [
  {
   "cell_type": "code",
   "execution_count": null,
   "metadata": {},
   "outputs": [],
   "source": [
    "import json"
   ]
  },
  {
   "cell_type": "code",
   "execution_count": null,
   "metadata": {},
   "outputs": [],
   "source": [
    "population = json.load(open(\"example_problems/circle_packing/outputs/2025-06-22_00-13-25_circle_packing/population.json\"))"
   ]
  },
  {
   "cell_type": "code",
   "source": "# Find the fittest organism in the population\nfittest = max(population, key=lambda org: org['evaluation']['fitness'])\nprint(f\"Fittest organism ID: {fittest['id']}\")\nprint(f\"Fittest organism fitness: {fittest['evaluation']['fitness']:.8f}\")\n\n# Create a mapping of organism ID to organism for quick lookup\norg_map = {org['id']: org for org in population}\n\n# Trace ancestry starting from the fittest\ndef trace_ancestry(organism_id):\n    \"\"\"Trace the ancestry of an organism back to its origins\"\"\"\n    ancestry = []\n    current_id = organism_id\n    \n    while current_id is not None:\n        if current_id in org_map:\n            current_org = org_map[current_id]\n            ancestry.append({\n                'id': current_org['id'],\n                'fitness': current_org['evaluation']['fitness'],\n                'parent_id': current_org.get('parent_id')\n            })\n            current_id = current_org.get('parent_id')\n        else:\n            break\n    \n    return ancestry\n\n# Get ancestry of the fittest organism\nancestry = trace_ancestry(fittest['id'])\n\n# Calculate the best fitness at each point in time (up to each ancestor)\n# We need to determine what the best fitness was when each ancestor was alive\ndef calculate_best_at_time(ancestry):\n    \"\"\"Calculate what the best fitness was at the time each ancestor existed\"\"\"\n    # Sort all organisms by ID (assuming ID is chronological)\n    all_orgs_sorted = sorted(population, key=lambda org: org['id'])\n    \n    results = []\n    for ancestor in ancestry:\n        # Find the best fitness among all organisms with ID <= ancestor's ID\n        best_at_time = max(\n            (org['evaluation']['fitness'] for org in all_orgs_sorted if org['id'] <= ancestor['id']),\n            default=ancestor['fitness']\n        )\n        \n        # Check if this ancestor was the best when it was created\n        # Find the best fitness among organisms with ID < ancestor's ID\n        best_before = max(\n            (org['evaluation']['fitness'] for org in all_orgs_sorted if org['id'] < ancestor['id']),\n            default=0.0\n        )\n        was_best = ancestor['fitness'] > best_before\n        \n        results.append({\n            **ancestor,\n            'best_at_time': best_at_time,\n            'was_best_when_created': was_best\n        })\n    return results\n\nancestry_with_best = calculate_best_at_time(ancestry)\n\nprint(f\"\\nAncestry of fittest organism (from fittest to oldest ancestor):\")\nprint(\"=\" * 85)\nprint(f\"{'#':>2s} | {'ID':>8s} | {'Fitness':>12s} | {'Best at Time':>12s} | {'Parent':>8s}\")\nprint(\"=\" * 85)\nfor i, ancestor in enumerate(ancestry_with_best):\n    parent_str = str(ancestor['parent_id']) if ancestor['parent_id'] is not None else 'None'\n    id_str = f\"{ancestor['id']}*\" if ancestor['was_best_when_created'] else str(ancestor['id'])\n    print(f\"{i+1:2d} | {id_str:>8s} | {ancestor['fitness']:12.8f} | {ancestor['best_at_time']:12.8f} | {parent_str:>8s}\")",
   "metadata": {},
   "outputs": []
  },
  {
   "cell_type": "code",
   "source": "# Find all organisms that were the best so far at any point\ndef find_best_so_far_organisms():\n    \"\"\"Find all organisms that were the best fitness when they were created\"\"\"\n    # Sort all organisms by ID (chronological order)\n    all_orgs_sorted = sorted(population, key=lambda org: org['id'])\n    \n    best_so_far_orgs = []\n    current_best_fitness = 0.0\n    \n    for org in all_orgs_sorted:\n        fitness = org['evaluation']['fitness']\n        if fitness > current_best_fitness:\n            best_so_far_orgs.append(org)\n            current_best_fitness = fitness\n    \n    return best_so_far_orgs\n\nbest_orgs = find_best_so_far_organisms()\nprint(f\"Number of organisms that were best so far at any point: {len(best_orgs)}\")\nprint(\"\\nThese organisms were:\")\nfor org in best_orgs:\n    print(f\"  ID {org['id']:4d}: fitness {org['evaluation']['fitness']:.8f}\")\n\n# Create graphviz visualization of all their ancestries\nimport graphviz\n\ndef get_all_ancestors(organism_ids):\n    \"\"\"Get all ancestors for a set of organism IDs\"\"\"\n    all_ancestors = set()\n    \n    for org_id in organism_ids:\n        ancestry = trace_ancestry(org_id)\n        for ancestor in ancestry:\n            all_ancestors.add(ancestor['id'])\n    \n    return all_ancestors\n\ndef create_ancestry_graph(organism_ids):\n    \"\"\"Create a directed graph showing ancestry relationships\"\"\"\n    dot = graphviz.Digraph(comment='Evolution Ancestry')\n    dot.attr(rankdir='TB')  # Top to bottom layout\n    dot.attr('node', shape='box', style='rounded,filled')\n    \n    # Get all relevant organisms (ancestors of best-so-far organisms)\n    relevant_org_ids = get_all_ancestors(organism_ids)\n    \n    # Add nodes\n    best_org_ids = set(org['id'] for org in best_orgs)\n    \n    for org_id in relevant_org_ids:\n        if org_id in org_map:\n            org = org_map[org_id]\n            fitness = org['evaluation']['fitness']\n            \n            # Different colors for best-so-far vs ancestors\n            if org_id in best_org_ids:\n                color = 'lightblue'\n                label = f\"ID: {org_id}*\\\\nFitness: {fitness:.6f}\"\n            else:\n                color = 'lightgray'\n                label = f\"ID: {org_id}\\\\nFitness: {fitness:.6f}\"\n            \n            dot.node(str(org_id), label, fillcolor=color)\n    \n    # Add edges (parent -> child relationships)\n    for org_id in relevant_org_ids:\n        if org_id in org_map:\n            org = org_map[org_id]\n            parent_id = org.get('parent_id')\n            if parent_id is not None and parent_id in relevant_org_ids:\n                dot.edge(str(parent_id), str(org_id))\n    \n    return dot\n\n# Create the graph\nbest_org_ids = [org['id'] for org in best_orgs]\ngraph = create_ancestry_graph(best_org_ids)\n\n# Display the graph\ngraph",
   "metadata": {},
   "outputs": []
  },
  {
   "cell_type": "code",
   "source": "# Create markdown documentation of the best organism's ancestry\ndef create_best_ancestry_markdown():\n    # Get the ancestry data we calculated earlier\n    ancestry_with_best = calculate_best_at_time(ancestry)\n    \n    # Start building the markdown content\n    md_content = []\n    md_content.append(\"# Best Organism Ancestry Analysis\")\n    md_content.append(\"\")\n    md_content.append(f\"This document traces the complete ancestry of the fittest organism (ID: {fittest['id']}) with fitness {fittest['evaluation']['fitness']:.8f}.\")\n    md_content.append(\"\")\n    md_content.append(\"Each section shows an ancestor in the lineage, from the fittest organism back to the original ancestor.\")\n    md_content.append(\"Organisms marked with * were the best fitness when they were created.\")\n    md_content.append(\"\")\n    md_content.append(\"---\")\n    md_content.append(\"\")\n    \n    # Go through each ancestor\n    for i, ancestor in enumerate(ancestry_with_best):\n        # Add header for this ancestor\n        was_best_marker = \"*\" if ancestor['was_best_when_created'] else \"\"\n        md_content.append(f\"## Ancestor #{i+1}: Organism {ancestor['id']}{was_best_marker}\")\n        md_content.append(\"\")\n        \n        # Add the info table\n        md_content.append(\"| Property | Value |\")\n        md_content.append(\"|----------|-------|\")\n        md_content.append(f\"| **ID** | {ancestor['id']}{was_best_marker} |\")\n        md_content.append(f\"| **Fitness** | {ancestor['fitness']:.8f} |\")\n        md_content.append(f\"| **Best at Time** | {ancestor['best_at_time']:.8f} |\")\n        parent_display = ancestor['parent_id'] if ancestor['parent_id'] is not None else 'None'\n        md_content.append(f\"| **Parent ID** | {parent_display} |\")\n        md_content.append(f\"| **Was Best When Created** | {'Yes' if ancestor['was_best_when_created'] else 'No'} |\")\n        md_content.append(\"\")\n        \n        # Add the solution code\n        if ancestor['id'] in org_map:\n            solution = org_map[ancestor['id']]['solution']\n            md_content.append(\"### Solution Code\")\n            md_content.append(\"\")\n            md_content.append(\"```python\")\n            md_content.append(solution)\n            md_content.append(\"```\")\n            md_content.append(\"\")\n        \n        md_content.append(\"---\")\n        md_content.append(\"\")\n    \n    # Join all content and write to file\n    full_content = \"\\n\".join(md_content)\n    \n    with open(\"best_ancestry.md\", \"w\") as f:\n        f.write(full_content)\n    \n    print(f\"Created best_ancestry.md with {len(ancestry_with_best)} ancestors documented\")\n    print(f\"Total file size: {len(full_content)} characters\")\n\n# Run the function\ncreate_best_ancestry_markdown()",
   "metadata": {},
   "outputs": []
  }
 ],
 "metadata": {
  "kernelspec": {
   "display_name": ".venv",
   "language": "python",
   "name": "python3"
  },
  "language_info": {
   "name": "python",
   "version": "3.13.2"
  }
 },
 "nbformat": 4,
 "nbformat_minor": 2
}